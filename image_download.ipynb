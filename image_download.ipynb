{
 "cells": [
  {
   "cell_type": "markdown",
   "metadata": {},
   "source": [
    "## Class-work 2"
   ]
  },
  {
   "cell_type": "markdown",
   "metadata": {},
   "source": [
    "EXERCISE Using threading, write a python program to download all images in the image_url variable and save these images to the picture folder of your computer. image_url = ['https://unsplash.com/photos/zlRVvjruGzE', 'https://unsplash.com/photos/V-0dyZEU3Pg', 'https://unsplash.com/photos/vIoGFrIzmfo', 'https://unsplash.com/photos/6wWME2lk26Q', 'https://unsplash.com/photos/VwNRuTK4JZg']"
   ]
  },
  {
   "cell_type": "code",
   "execution_count": 1,
   "metadata": {},
   "outputs": [],
   "source": [
    "#importing libs\n",
    "import requests\n",
    "import time \n",
    "from bs4 import BeautifulSoup as soup\n",
    "from urllib.request import Request, urlopen"
   ]
  },
  {
   "cell_type": "code",
   "execution_count": 2,
   "metadata": {},
   "outputs": [],
   "source": [
    "#Image Urls\n",
    "image_urls = ['https://unsplash.com/photos/zlRVvjruGzE', \n",
    "             'https://unsplash.com/photos/V-0dyZEU3Pg', \n",
    "             'https://unsplash.com/photos/vIoGFrIzmfo', \n",
    "             'https://unsplash.com/photos/6wWME2lk26Q', \n",
    "             'https://unsplash.com/photos/VwNRuTK4JZg']"
   ]
  },
  {
   "cell_type": "code",
   "execution_count": 3,
   "metadata": {},
   "outputs": [],
   "source": [
    "#Creating a functions thats gets the images\n",
    "def get_image(image_url, file_path):\n",
    "        my_url = Request(image_url)\n",
    "        uClient = urlopen(my_url)\n",
    "        page_html = uClient.read()\n",
    "        uClient.close()\n",
    "        page_soup = soup(page_html,\"lxml\")\n",
    "\n",
    "        image_tag =page_soup.find_all(\"img\", class_=\"_2zEKz\")[0]['src']\n",
    "        #print(image_tag) \n",
    "        \n",
    "        cut = image_tag.split('/')[3][:19]\n",
    "        #print(cut)\n",
    "\n",
    "        with open(file_path +cut +'.jpg','wb') as f:\n",
    "            img_get = requests.get(image_tag)\n",
    "            f.write(img_get.content)\n",
    "        "
   ]
  },
  {
   "cell_type": "code",
   "execution_count": 4,
   "metadata": {},
   "outputs": [
    {
     "name": "stdout",
     "output_type": "stream",
     "text": [
      "31.34019374847412\n"
     ]
    }
   ],
   "source": [
    "#Runing the program without threding\n",
    "start_time  = time.time()\n",
    "for image_url in image_urls:\n",
    "    get_image(image_url, 'images1/')\n",
    "end_time = time.time()\n",
    "exe_time = (end_time - start_time)\n",
    "print(exe_time)"
   ]
  },
  {
   "cell_type": "code",
   "execution_count": 5,
   "metadata": {},
   "outputs": [],
   "source": [
    "import threading\n",
    "import concurrent.futures"
   ]
  },
  {
   "cell_type": "code",
   "execution_count": 8,
   "metadata": {},
   "outputs": [
    {
     "name": "stdout",
     "output_type": "stream",
     "text": [
      "image saved\n",
      "image saved\n",
      "image saved\n",
      "image saved\n",
      "image saved\n",
      "18.124141216278076\n"
     ]
    }
   ],
   "source": [
    "#Runing the same task with threading\n",
    "start_time  = time.time()\n",
    "with concurrent.futures.ThreadPoolExecutor() as executor:\n",
    "        futures = [executor.submit(get_image, image_url = url, file_path = 'images2/') for url in image_urls]\n",
    "\n",
    "for future in concurrent.futures.as_completed(futures):\n",
    "            try:\n",
    "                print('image saved')\n",
    "            except:\n",
    "                print('Image not saved') \n",
    "end_time = time.time()\n",
    "exe_time2 = (end_time - start_time)\n",
    "print(exe_time2)               "
   ]
  },
  {
   "cell_type": "code",
   "execution_count": 9,
   "metadata": {},
   "outputs": [
    {
     "name": "stdout",
     "output_type": "stream",
     "text": [
      "13.216052532196045\n"
     ]
    }
   ],
   "source": [
    "diff = exe_time - exe_time2\n",
    "print(diff)"
   ]
  },
  {
   "cell_type": "code",
   "execution_count": null,
   "metadata": {},
   "outputs": [],
   "source": []
  }
 ],
 "metadata": {
  "kernelspec": {
   "display_name": "Python 3",
   "language": "python",
   "name": "python3"
  },
  "language_info": {
   "codemirror_mode": {
    "name": "ipython",
    "version": 3
   },
   "file_extension": ".py",
   "mimetype": "text/x-python",
   "name": "python",
   "nbconvert_exporter": "python",
   "pygments_lexer": "ipython3",
   "version": "3.8.0"
  }
 },
 "nbformat": 4,
 "nbformat_minor": 4
}
